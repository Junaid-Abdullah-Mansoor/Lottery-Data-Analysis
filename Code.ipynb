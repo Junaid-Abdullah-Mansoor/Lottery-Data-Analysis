{
 "cells": [
  {
   "cell_type": "code",
   "execution_count": 1,
   "id": "569feeda",
   "metadata": {},
   "outputs": [],
   "source": [
    "import pandas as pd"
   ]
  },
  {
   "cell_type": "markdown",
   "id": "0458ee5e",
   "metadata": {},
   "source": [
    "## Reading DataSet"
   ]
  },
  {
   "cell_type": "code",
   "execution_count": 2,
   "id": "c791b439",
   "metadata": {},
   "outputs": [],
   "source": [
    "df=pd.read_csv(\"lottery_data.csv\")"
   ]
  },
  {
   "cell_type": "markdown",
   "id": "97a75a61",
   "metadata": {},
   "source": [
    "## Head of Dataset"
   ]
  },
  {
   "cell_type": "code",
   "execution_count": 7,
   "id": "e6a2af26",
   "metadata": {},
   "outputs": [
    {
     "data": {
      "text/html": [
       "<div>\n",
       "<style scoped>\n",
       "    .dataframe tbody tr th:only-of-type {\n",
       "        vertical-align: middle;\n",
       "    }\n",
       "\n",
       "    .dataframe tbody tr th {\n",
       "        vertical-align: top;\n",
       "    }\n",
       "\n",
       "    .dataframe thead th {\n",
       "        text-align: right;\n",
       "    }\n",
       "</style>\n",
       "<table border=\"1\" class=\"dataframe\">\n",
       "  <thead>\n",
       "    <tr style=\"text-align: right;\">\n",
       "      <th></th>\n",
       "      <th>date</th>\n",
       "      <th>weekday</th>\n",
       "      <th>winning_numbers</th>\n",
       "      <th>powerball</th>\n",
       "      <th>powerplay</th>\n",
       "      <th>jackpot</th>\n",
       "    </tr>\n",
       "  </thead>\n",
       "  <tbody>\n",
       "    <tr>\n",
       "      <th>0</th>\n",
       "      <td>2014-05-07</td>\n",
       "      <td>Wed</td>\n",
       "      <td>17-29-31-48-49</td>\n",
       "      <td>34</td>\n",
       "      <td>2</td>\n",
       "      <td>70000000</td>\n",
       "    </tr>\n",
       "    <tr>\n",
       "      <th>1</th>\n",
       "      <td>2014-05-10</td>\n",
       "      <td>Sat</td>\n",
       "      <td>4-31-41-47-55</td>\n",
       "      <td>1</td>\n",
       "      <td>2</td>\n",
       "      <td>90000000</td>\n",
       "    </tr>\n",
       "    <tr>\n",
       "      <th>2</th>\n",
       "      <td>2014-05-14</td>\n",
       "      <td>Wed</td>\n",
       "      <td>7-33-39-52-55</td>\n",
       "      <td>33</td>\n",
       "      <td>3</td>\n",
       "      <td>90000000</td>\n",
       "    </tr>\n",
       "    <tr>\n",
       "      <th>3</th>\n",
       "      <td>2014-05-17</td>\n",
       "      <td>Sat</td>\n",
       "      <td>23-32-39-47-49</td>\n",
       "      <td>22</td>\n",
       "      <td>3</td>\n",
       "      <td>114000000</td>\n",
       "    </tr>\n",
       "    <tr>\n",
       "      <th>4</th>\n",
       "      <td>2014-05-21</td>\n",
       "      <td>Wed</td>\n",
       "      <td>4-20-34-39-58</td>\n",
       "      <td>31</td>\n",
       "      <td>5</td>\n",
       "      <td>114000000</td>\n",
       "    </tr>\n",
       "  </tbody>\n",
       "</table>\n",
       "</div>"
      ],
      "text/plain": [
       "         date weekday winning_numbers  powerball  powerplay    jackpot\n",
       "0  2014-05-07     Wed  17-29-31-48-49         34          2   70000000\n",
       "1  2014-05-10     Sat   4-31-41-47-55          1          2   90000000\n",
       "2  2014-05-14     Wed   7-33-39-52-55         33          3   90000000\n",
       "3  2014-05-17     Sat  23-32-39-47-49         22          3  114000000\n",
       "4  2014-05-21     Wed   4-20-34-39-58         31          5  114000000"
      ]
     },
     "execution_count": 7,
     "metadata": {},
     "output_type": "execute_result"
    }
   ],
   "source": [
    "df.head()"
   ]
  },
  {
   "cell_type": "code",
   "execution_count": 5,
   "id": "86399f36",
   "metadata": {},
   "outputs": [
    {
     "data": {
      "text/plain": [
       "(950, 6)"
      ]
     },
     "execution_count": 5,
     "metadata": {},
     "output_type": "execute_result"
    }
   ],
   "source": [
    "df.shape"
   ]
  },
  {
   "cell_type": "code",
   "execution_count": null,
   "id": "e8e5f3e1",
   "metadata": {},
   "outputs": [],
   "source": []
  }
 ],
 "metadata": {
  "kernelspec": {
   "display_name": "Python 3 (ipykernel)",
   "language": "python",
   "name": "python3"
  },
  "language_info": {
   "codemirror_mode": {
    "name": "ipython",
    "version": 3
   },
   "file_extension": ".py",
   "mimetype": "text/x-python",
   "name": "python",
   "nbconvert_exporter": "python",
   "pygments_lexer": "ipython3",
   "version": "3.9.13"
  }
 },
 "nbformat": 4,
 "nbformat_minor": 5
}
